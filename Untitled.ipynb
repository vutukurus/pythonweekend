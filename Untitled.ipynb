{
 "cells": [
  {
   "cell_type": "code",
   "execution_count": 4,
   "metadata": {
    "collapsed": false
   },
   "outputs": [
    {
     "name": "stdout",
     "output_type": "stream",
     "text": [
      "10\n",
      "[90, 20, 30, 40]\n"
     ]
    }
   ],
   "source": [
    "#Tuples only read operations. ()\n",
    "#Lists u can do both read n write.. []\n",
    "\n",
    "a = [10,20,30,40]\n",
    "print a[0]\n",
    "\n",
    "a[0] = 90\n",
    "print a\n",
    "\n",
    "\n"
   ]
  },
  {
   "cell_type": "code",
   "execution_count": 9,
   "metadata": {
    "collapsed": false
   },
   "outputs": [
    {
     "name": "stdout",
     "output_type": "stream",
     "text": [
      "10\n",
      "4\n"
     ]
    }
   ],
   "source": [
    "#Tuples\n",
    "a = (10,20,30,40)\n",
    "print a[0]\n",
    "print len(a)\n"
   ]
  },
  {
   "cell_type": "code",
   "execution_count": 14,
   "metadata": {
    "collapsed": false
   },
   "outputs": [
    {
     "name": "stdout",
     "output_type": "stream",
     "text": [
      "[10, 20, 30, 40]\n",
      "[10, 20, 30, 40]\n",
      "new list is [10, 20, 30, 40]\n"
     ]
    }
   ],
   "source": [
    "#Tuple to list...\n",
    "print a\n",
    "b = []\n",
    "for i in a:\n",
    "    b.append(i)\n",
    "print b\n",
    "\n",
    "#second way of tuple to list..\n",
    "a = (10, 20, 30, 40)\n",
    "b = list(a)\n",
    "print \"new list is {}\".format(b)"
   ]
  },
  {
   "cell_type": "code",
   "execution_count": 13,
   "metadata": {
    "collapsed": false
   },
   "outputs": [
    {
     "name": "stdout",
     "output_type": "stream",
     "text": [
      "(10, 20, 30, 40)\n"
     ]
    }
   ],
   "source": [
    "#list to tuple..\n",
    "a = [10, 20, 30, 40]\n",
    "b = tuple(a)\n",
    "print b"
   ]
  },
  {
   "cell_type": "code",
   "execution_count": 17,
   "metadata": {
    "collapsed": false
   },
   "outputs": [
    {
     "data": {
      "text/plain": [
       "1"
      ]
     },
     "execution_count": 17,
     "metadata": {},
     "output_type": "execute_result"
    }
   ],
   "source": [
    "a =[10,20,30,40]\n",
    "a.count(30)\n",
    "\n",
    "a=(10,20,30)\n",
    "a.count(30)\n",
    "\n"
   ]
  },
  {
   "cell_type": "code",
   "execution_count": null,
   "metadata": {
    "collapsed": true
   },
   "outputs": [],
   "source": [
    "a = []"
   ]
  }
 ],
 "metadata": {
  "kernelspec": {
   "display_name": "Python 2",
   "language": "python",
   "name": "python2"
  },
  "language_info": {
   "codemirror_mode": {
    "name": "ipython",
    "version": 2
   },
   "file_extension": ".py",
   "mimetype": "text/x-python",
   "name": "python",
   "nbconvert_exporter": "python",
   "pygments_lexer": "ipython2",
   "version": "2.7.13"
  }
 },
 "nbformat": 4,
 "nbformat_minor": 2
}
